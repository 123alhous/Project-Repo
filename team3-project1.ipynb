{
 "cells": [
  {
   "cell_type": "code",
   "execution_count": 18,
   "metadata": {},
   "outputs": [
    {
     "data": {
      "text/plain": [
       "145450"
      ]
     },
     "execution_count": 18,
     "metadata": {},
     "output_type": "execute_result"
    }
   ],
   "source": [
    "\n",
    "\n",
    "import os  # Imports the os module for file path operations\n",
    "import csv  # Imports the csv module for reading and writing CSV files\n",
    "import pandas as pd\n",
    "# Prompt user for title lookup\n",
    " # Prompts the user to enter the title of the comic book they are looking for\n",
    "\n",
    "# Set path for file\n",
    "covid19 = os.path.join(\"C:/Users/admin/Desktop/Project-Repo/Sources/COVID-19_20240708.csv\")  # Creates a file path to the CSV file\n",
    "\n",
    "covid19_data = pd.read_csv(covid19)\n",
    "\n",
    "covid19_data.head()\n",
    "len(covid19_data['State'])\n",
    "\n",
    "\n",
    "\n"
   ]
  }
 ],
 "metadata": {
  "kernelspec": {
   "display_name": "base",
   "language": "python",
   "name": "python3"
  },
  "language_info": {
   "codemirror_mode": {
    "name": "ipython",
    "version": 3
   },
   "file_extension": ".py",
   "mimetype": "text/x-python",
   "name": "python",
   "nbconvert_exporter": "python",
   "pygments_lexer": "ipython3",
   "version": "3.11.7"
  }
 },
 "nbformat": 4,
 "nbformat_minor": 2
}
